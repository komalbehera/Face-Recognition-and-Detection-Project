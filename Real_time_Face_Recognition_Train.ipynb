{
 "cells": [
  {
   "cell_type": "code",
   "execution_count": 3,
   "metadata": {},
   "outputs": [],
   "source": [
    "import cv2\n",
    "import numpy as np"
   ]
  },
  {
   "cell_type": "code",
   "execution_count": 15,
   "metadata": {},
   "outputs": [
    {
     "name": "stdout",
     "output_type": "stream",
     "text": [
      "enter name of person whose face you're scanning:yash\n",
      "1\n",
      "2\n",
      "3\n",
      "4\n",
      "5\n",
      "6\n",
      "7\n",
      "8\n",
      "9\n",
      "10\n",
      "11\n",
      "12\n",
      "13\n",
      "14\n",
      "15\n",
      "16\n",
      "17\n",
      "18\n",
      "19\n",
      "20\n",
      "21\n",
      "22\n",
      "23\n",
      "24\n",
      "25\n",
      "26\n",
      "27\n",
      "(27, 30000)\n"
     ]
    }
   ],
   "source": [
    "#initializing the camera\n",
    "cap=cv2.VideoCapture(0)\n",
    "#creating a classifier object - Face Detection \n",
    "face_cascade=cv2.CascadeClassifier(r\"C:\\Users\\dell\\Desktop\\projects\\Machine Learning\\CBMC\\Real Time Face Recognition\\haarcascade_frontalface_default.xml\")\n",
    "skip=0\n",
    "face_data=[]\n",
    "dataset_path=r\"C:\\Users\\dell\\Desktop\\projects\\Machine Learning\\Coding Blocks\\Real Time Face Recognition\"\n",
    "filename=input(\"enter name of person whose face you're scanning:\")\n",
    "\n",
    "while True:\n",
    "    ret,frame=cap.read()  #frame represents an image(series)\n",
    "    gray_frame=cv2.cvtColor(frame,cv2.COLOR_BGR2GRAY)      \n",
    "\n",
    "    if ret==False:\n",
    "        continue\n",
    "    #giving an image to the model\n",
    "    faces=face_cascade.detectMultiScale(gray_frame,1.3,5)\n",
    "    #sorting according to area=w*h\n",
    "    faces=sorted(faces,key=lambda f:f[2]*f[3],reverse=True)\n",
    "    #faces will return us the (x,y,w,h) of the face\n",
    "    #now we need to make a boundary of rectange around the image\n",
    "    for face in faces[0:1]:\n",
    "        x,y,w,h=face\n",
    "        cv2.rectangle(frame,(x,y),(x+w,y+h),(255,0,0),2)\n",
    "        \n",
    "        #cropping the region of interest\n",
    "        offset=10\n",
    "        face_section=frame[y-offset:y+h+offset,x-offset:x+w+offset]\n",
    "        face_section=cv2.resize(face_section,(100,100)) \n",
    "        if(skip%10==0):\n",
    "            face_data.append(face_section)\n",
    "            print(len(face_data))\n",
    "        skip+=1   #after every 10th frame , we're increasing count by 1\n",
    "    \n",
    "    \n",
    "    cv2.imshow(\"Video Frame\",frame)\n",
    "    #cv2.imshow(\"gray frame\",gray_frame)\n",
    "    cv2.imshow(\"face_section\",face_section)\n",
    "    \n",
    "    key=cv2.waitKey(1) & 0xFF\n",
    "    if key==ord('q'):\n",
    "        break\n",
    "        \n",
    "#converting our face_data to numpy array\n",
    "face_data=np.asarray(face_data)\n",
    "face_data=face_data.reshape((face_data.shape[0],-1))\n",
    "print(face_data.shape)\n",
    "#saving the data\n",
    "np.save(r\"C:\\Users\\dell\\Desktop\\projects\\Machine Learning\\Coding Blocks\\Real Time Face Recognition\"+\"\\\\\"+filename+\".npy\",face_data)\n",
    "cap.release()  \n",
    "cv2.destroyAllWindows()\n",
    "        "
   ]
  },
  {
   "cell_type": "code",
   "execution_count": null,
   "metadata": {},
   "outputs": [],
   "source": [
    "#face_data.shape"
   ]
  },
  {
   "cell_type": "code",
   "execution_count": 12,
   "metadata": {},
   "outputs": [
    {
     "data": {
      "text/plain": [
       "array([1, 2, 2, 3, 4, 5, 6, 7])"
      ]
     },
     "execution_count": 12,
     "metadata": {},
     "output_type": "execute_result"
    }
   ],
   "source": [
    "a=[[[1,2],[2,3]],[[4,5],[6,7]]]\n",
    "a=np.array(a)\n",
    "a.flatten()"
   ]
  },
  {
   "cell_type": "code",
   "execution_count": 5,
   "metadata": {},
   "outputs": [],
   "source": [
    "a=np.concatenate(a,axis=0)"
   ]
  },
  {
   "cell_type": "code",
   "execution_count": 6,
   "metadata": {},
   "outputs": [
    {
     "data": {
      "text/plain": [
       "array([[1, 2],\n",
       "       [2, 3],\n",
       "       [4, 5],\n",
       "       [6, 7]])"
      ]
     },
     "execution_count": 6,
     "metadata": {},
     "output_type": "execute_result"
    }
   ],
   "source": [
    "a"
   ]
  },
  {
   "cell_type": "code",
   "execution_count": 7,
   "metadata": {},
   "outputs": [
    {
     "data": {
      "text/plain": [
       "array([1, 2])"
      ]
     },
     "execution_count": 7,
     "metadata": {},
     "output_type": "execute_result"
    }
   ],
   "source": [
    "a[0]"
   ]
  },
  {
   "cell_type": "code",
   "execution_count": null,
   "metadata": {},
   "outputs": [],
   "source": []
  }
 ],
 "metadata": {
  "kernelspec": {
   "display_name": "Python 3",
   "language": "python",
   "name": "python3"
  },
  "language_info": {
   "codemirror_mode": {
    "name": "ipython",
    "version": 3
   },
   "file_extension": ".py",
   "mimetype": "text/x-python",
   "name": "python",
   "nbconvert_exporter": "python",
   "pygments_lexer": "ipython3",
   "version": "3.7.4"
  }
 },
 "nbformat": 4,
 "nbformat_minor": 2
}
