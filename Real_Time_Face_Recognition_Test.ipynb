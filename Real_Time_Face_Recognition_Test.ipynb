{
 "cells": [
  {
   "cell_type": "code",
   "execution_count": 11,
   "metadata": {},
   "outputs": [],
   "source": [
    "import numpy as np\n",
    "import os\n",
    "import cv2"
   ]
  },
  {
   "cell_type": "markdown",
   "metadata": {},
   "source": [
    "KNN MODEL"
   ]
  },
  {
   "cell_type": "code",
   "execution_count": 12,
   "metadata": {},
   "outputs": [],
   "source": [
    "def distance(x1,x2):\n",
    "    return np.sqrt(sum((x1-x2)**2))\n",
    "\n",
    "def knn(train_X,train_Y,query_point,k=10):\n",
    "    m=train_X.shape[0]\n",
    "    vals=[]\n",
    "    for i in range(m):\n",
    "        d=distance(train_X[i],query_point)\n",
    "        vals.append((d,train_Y[i]))\n",
    "        \n",
    "    vals=sorted(vals)\n",
    "    vals=vals[:k]\n",
    "    vals=np.array(vals)\n",
    "    new_vals=np.unique(vals[:,1],return_counts=True)\n",
    "    index=new_vals[1].argmax()\n",
    "    pred=new_vals[0][index]\n",
    "    return pred"
   ]
  },
  {
   "cell_type": "markdown",
   "metadata": {},
   "source": [
    "DATA LOADING/PREPARATION"
   ]
  },
  {
   "cell_type": "code",
   "execution_count": 13,
   "metadata": {},
   "outputs": [],
   "source": [
    "dataset_path=r\"C:\\Users\\dell\\Desktop\\projects\\Machine Learning\\CBMC\\Real Time Face Recognition\"\n",
    "face_data=[] #list of list of faces\n",
    "labels=[]\n",
    "class_id=0\n",
    "names={}\n",
    "for fx in os.listdir(dataset_path):\n",
    "    if fx.endswith('.npy'):\n",
    "        names[class_id]=fx[:-4]\n",
    "        data_items=np.load(dataset_path+\"\\\\\"+fx)\n",
    "        face_data.append(data_items)\n",
    "        #create_labels\n",
    "        target=class_id*np.ones((data_items.shape[0],))\n",
    "        labels.append(target)\n",
    "        class_id+=1\n",
    "        \n",
    "face_data=np.concatenate(face_data,axis=0) #this is our X_train\n",
    "labels=np.concatenate(labels,axis=0).reshape((-1,1))   #we want only one column and this is going to be our Y_train\n",
    "        "
   ]
  },
  {
   "cell_type": "markdown",
   "metadata": {},
   "source": [
    "TESTING "
   ]
  },
  {
   "cell_type": "code",
   "execution_count": 15,
   "metadata": {},
   "outputs": [],
   "source": [
    "cap=cv2.VideoCapture(0)\n",
    "face_cascade=cv2.CascadeClassifier(r\"C:\\Users\\dell\\Desktop\\projects\\Machine Learning\\Coding Blocks\\Real Time Face Recognition\\haarcascade_frontalface_default.xml\")\n",
    "\n",
    "while True:\n",
    "    ret,frame=cap.read()\n",
    "    if ret==False:\n",
    "        continue\n",
    "    faces=face_cascade.detectMultiScale(frame,1.3,5)\n",
    "    #iterating over all the faces\n",
    "    for face in faces:\n",
    "        x,y,w,h=face\n",
    "        \n",
    "        #we need to get the region of interest that is our face_section\n",
    "        offset=10\n",
    "        face_section=frame[y-offset:y+h+offset,x-offset:x+w+offset]\n",
    "        \n",
    "        face_section=cv2.resize(face_section,(100,100))\n",
    "        \n",
    "        #predicting the output\n",
    "        op=knn(face_data,labels,face_section.flatten())\n",
    "        \n",
    "        pred_name=names[int(op)]\n",
    "        cv2.putText(frame,pred_name,(x,y-10),cv2.FONT_HERSHEY_COMPLEX,1,(255,0,0),1)\n",
    "        cv2.rectangle(frame,(x,y),(x+w,y+h),(0,255,255),1)\n",
    "        \n",
    "    cv2.imshow(\"project\",frame)       \n",
    "    key=cv2.waitKey(1) & 0xFF\n",
    "    if key==ord('q'):\n",
    "        break\n",
    "cap.release()\n",
    "cv2.destroyAllWindows()\n",
    "        "
   ]
  },
  {
   "cell_type": "code",
   "execution_count": null,
   "metadata": {},
   "outputs": [],
   "source": [
    "cv2.putText?"
   ]
  },
  {
   "cell_type": "code",
   "execution_count": null,
   "metadata": {},
   "outputs": [],
   "source": []
  }
 ],
 "metadata": {
  "kernelspec": {
   "display_name": "Python 3",
   "language": "python",
   "name": "python3"
  },
  "language_info": {
   "codemirror_mode": {
    "name": "ipython",
    "version": 3
   },
   "file_extension": ".py",
   "mimetype": "text/x-python",
   "name": "python",
   "nbconvert_exporter": "python",
   "pygments_lexer": "ipython3",
   "version": "3.7.4"
  }
 },
 "nbformat": 4,
 "nbformat_minor": 2
}
